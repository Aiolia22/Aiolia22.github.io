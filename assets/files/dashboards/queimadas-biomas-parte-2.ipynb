{
 "cells": [
  {
   "cell_type": "code",
   "execution_count": null,
   "metadata": {},
   "outputs": [],
   "source": [
    "import pandas as pd\n",
    "import numpy as np\n",
    "import scipy.stats as stas\n",
    "import matplotlib.pyplot as plt"
   ]
  },
  {
   "cell_type": "code",
   "execution_count": null,
   "metadata": {},
   "outputs": [],
   "source": [
    "df = pd.read_csv('historico_bioma_completo.csv', encoding='latin-1')\n",
    "df.head()"
   ]
  },
  {
   "cell_type": "code",
   "execution_count": null,
   "metadata": {},
   "outputs": [],
   "source": [
    "df.replace('-',0, inplace=True)\n",
    "df.head()"
   ]
  },
  {
   "cell_type": "code",
   "execution_count": null,
   "metadata": {},
   "outputs": [],
   "source": [
    "df.info()"
   ]
  },
  {
   "cell_type": "code",
   "execution_count": null,
   "metadata": {},
   "outputs": [],
   "source": [
    "df.describe()"
   ]
  },
  {
   "cell_type": "code",
   "execution_count": null,
   "metadata": {},
   "outputs": [],
   "source": [
    "colunas = list(df.columns) # armazenando o nome das colunas em uma variável\n",
    "for j in range(df.shape[1]): # loop para iterar ao longo das colunas\n",
    "    print(colunas[j]) # printar o nome da coluna\n",
    "    for i in range(10): # Loop para iterar nas 10 primeiras linhas \n",
    "        print(type(df[colunas[j]][i])) # printando o tipo de cada célula"
   ]
  },
  {
   "cell_type": "code",
   "execution_count": null,
   "metadata": {},
   "outputs": [],
   "source": [
    "for j in range(df.shape[1]-1): # loop para iterar ao longo das colunas. O menos 1 é para não dar problema com as strings da ultima coluna\n",
    "    df[colunas[j]] = df[colunas[j]].astype(int) # trocando o valor de str para int"
   ]
  },
  {
   "cell_type": "code",
   "execution_count": null,
   "metadata": {},
   "outputs": [],
   "source": [
    "df.info()"
   ]
  },
  {
   "cell_type": "code",
   "execution_count": null,
   "metadata": {},
   "outputs": [],
   "source": [
    "df.to_csv('biomas_dados_historicos.csv', encoding='latin-1', index=False)"
   ]
  },
  {
   "cell_type": "code",
   "execution_count": null,
   "metadata": {},
   "outputs": [],
   "source": [
    "df = pd.read_csv('biomas_dados_historicos.csv', encoding='latin-1')\n",
    "df.head()"
   ]
  },
  {
   "cell_type": "code",
   "execution_count": null,
   "metadata": {},
   "outputs": [],
   "source": [
    "df.info()"
   ]
  },
  {
   "cell_type": "code",
   "execution_count": null,
   "metadata": {},
   "outputs": [],
   "source": [
    "x = df.columns.values[1:13]"
   ]
  },
  {
   "cell_type": "code",
   "execution_count": null,
   "metadata": {},
   "outputs": [],
   "source": [
    "df_aux = df[df['Bioma'] == 'Amazônia']\n",
    "df_aux.head()"
   ]
  },
  {
   "cell_type": "code",
   "execution_count": null,
   "metadata": {},
   "outputs": [],
   "source": [
    "y = df_aux.loc[0][1:13]"
   ]
  },
  {
   "cell_type": "code",
   "execution_count": null,
   "metadata": {},
   "outputs": [],
   "source": [
    "plt.figure(figsize=(12,6)) # criando o canvas com um tamanho pré-determinado\n",
    "plt.plot(df.columns.values[1:13], # valores de x\n",
    "         df_aux.loc[0][1:13], # valores de y, para apenas o primeiro ano\n",
    "         label = str(df.loc[0][0]), # nome do ano para a legenda (precisa ser transformado em string)\n",
    "         marker = 'o') # para que o ponto seja apresentado é necessário passar o marker com o simbolo do marcador\n",
    "plt.xlabel(\"Meses\") # nome do eixo x\n",
    "plt.ylabel(\"Número de focos de queimadas\") # nome do eixo y\n",
    "plt.title(\"Número de focos de queimadas identificados no bioma: \" + str(df.loc[0][14])) # Titulo do gráfico\n",
    "plt.legend() # adicionar a legenda\n",
    "plt.show() # apresentar o gráfico"
   ]
  },
  {
   "cell_type": "code",
   "execution_count": null,
   "metadata": {},
   "outputs": [],
   "source": [
    "plt.figure(figsize=(12,6)) # criando o canvas com um tamanho pré-determinado\n",
    "for i in range(df_aux.shape[0]): # percorrendo todos os anos\n",
    "    plt.plot(df_aux.columns.values[1:13], # valores de x, alterado para o df_aux\n",
    "             df_aux.loc[i][1:13], # valores de y, para apenas o primeiro ano\n",
    "             label = str(df.loc[i][0]), # nome do ano para a legenda (precisa ser transformado em string)\n",
    "             marker = 'o') # para que o ponto seja apresentado é necessário passar o marker com o simbolo do marcador\n",
    "plt.xlabel(\"Meses\") # nome do eixo x\n",
    "plt.ylabel(\"Número de focos de queimadas\") # nome do eixo y\n",
    "plt.title(\"Número de focos de queimadas identificados no bioma: \" + str(df.loc[0][14])) # Titulo do gráfico\n",
    "plt.legend() # adicionar a legenda\n",
    "plt.show() # apresentar o gráfico"
   ]
  },
  {
   "cell_type": "code",
   "execution_count": null,
   "metadata": {},
   "outputs": [],
   "source": [
    "plt.figure(figsize=(12,6)) # criando o canvas com um tamanho pré-determinado\n",
    "for i in range(df_aux.shape[0]): # percorrendo todos os anos\n",
    "    plt.plot(df_aux.columns.values[1:13], # valores de x, alterado para o df_aux\n",
    "             df_aux.loc[i][1:13], # valores de y, para apenas o primeiro ano\n",
    "             label = str(df.loc[i][0]), # nome do ano para a legenda (precisa ser transformado em string)\n",
    "             marker = 'o') # para que o ponto seja apresentado é necessário passar o marker com o simbolo do marcador\n",
    "plt.xlabel(\"Meses\") # nome do eixo x\n",
    "plt.ylabel(\"Número de focos de queimadas\") # nome do eixo y\n",
    "plt.title(\"Número de focos de queimadas identificados no bioma: \" + str(df.loc[0][14])) # Titulo do gráfico\n",
    "plt.legend(bbox_to_anchor = (1.02,1.05)) # adicionar a legenda\n",
    "plt.show() # apresentar o gráfico"
   ]
  },
  {
   "cell_type": "code",
   "execution_count": null,
   "metadata": {},
   "outputs": [],
   "source": [
    "for j in range(len(df['Bioma'].unique())):# percorrendo todos os biomas    \n",
    "    df_aux = df[df['Bioma'] == df['Bioma'].unique()[j]] # redefinindo do df_aux para o bioma\n",
    "    df_aux.reset_index(drop=True, inplace=True) # redefinindo o indice\n",
    "    plt.figure(figsize=(12,6)) # criando o canvas com um tamanho pré-determinado\n",
    "    for i in range(df_aux.shape[0]): # percorrendo todos os anos\n",
    "        plt.plot(df_aux.columns.values[1:13], # valores de x, alterado para o df_aux\n",
    "                 df_aux.loc[i][1:13], # valores de y, para apenas o primeiro ano\n",
    "                 label = str(df_aux.loc[i][0]), # nome do ano para a legenda (precisa ser transformado em string)\n",
    "                 marker = 'o') # para que o ponto seja apresentado é necessário passar o marker com o simbolo do marcador\n",
    "    plt.xlabel(\"Meses\") # nome do eixo x\n",
    "    plt.ylabel(\"Número de focos de queimadas\") # nome do eixo y\n",
    "    plt.title(\"Número de focos de queimadas identificados no bioma: \" + str(df_aux.loc[0][14])) # Titulo do gráfico\n",
    "    plt.legend(bbox_to_anchor = (1.02,1.05)) # adicionar a legenda\n",
    "    plt.show() # apresentar o gráfico"
   ]
  },
  {
   "cell_type": "code",
   "execution_count": null,
   "metadata": {},
   "outputs": [],
   "source": [
    "df_aux = df[df['Bioma'] == 'Amazônia'] \n",
    "plt.figure(figsize=(12,6)) # Criando a figura\n",
    "plt.bar(df_aux['Ano'], # dados eixo x\n",
    "       df_aux['Total']) # dados eixo y\n",
    "plt.xlabel(\"Anos\") # legenda no eixo x\n",
    "plt.ylabel(\"Número de focos de queimadas totais\") # legenda no eixo y\n",
    "plt.title(\"Variação do número total de focos de queimadas identificados no bioma \" + df_aux['Bioma'][0]) # titulo\n",
    "plt.xticks(df_aux['Ano'], rotation = 45) # alterando os ticks para que todos os anos sejam apresentados e girando um pouco o ticks\n",
    "plt.show()"
   ]
  },
  {
   "cell_type": "code",
   "execution_count": null,
   "metadata": {},
   "outputs": [],
   "source": [
    "\n",
    "for j in range(len(df['Bioma'].unique())):# percorrendo todos os biomas    \n",
    "    df_aux = df[df['Bioma'] == df['Bioma'].unique()[j]] # redefinindo do df_aux para o bioma\n",
    "    df_aux.reset_index(drop=True, inplace=True) # redefinindo o indice\n",
    "    plt.figure(figsize=(12,6)) # Criando a figura\n",
    "    plt.bar(df_aux['Ano'], # dados eixo x\n",
    "           df_aux['Total']) # dados eixo y\n",
    "    plt.xlabel(\"Anos\") # legenda no eixo x\n",
    "    plt.ylabel(\"Número de focos de queimadas totais\") # legenda no eixo y\n",
    "    plt.title(\"Variação do número total de focos de queimadas identificados no bioma \" + df_aux['Bioma'][0]) # titulo\n",
    "    plt.xticks(df_aux['Ano'], rotation = 45) # alterando os ticks para que todos os anos sejam apresentados e girando um pouco o ticks\n",
    "    plt.show()"
   ]
  },
  {
   "cell_type": "code",
   "execution_count": null,
   "metadata": {},
   "outputs": [],
   "source": [
    "df_aux = df[df['Bioma'] == 'Amazônia'] \n",
    "plt.figure(figsize=(8,8))\n",
    "plt.pie(x = df_aux['Total'],\n",
    "       labels = df_aux['Ano'],)\n",
    "plt.show()\n"
   ]
  },
  {
   "cell_type": "code",
   "execution_count": null,
   "metadata": {},
   "outputs": [],
   "source": [
    "df_aux = df[df['Bioma'] == 'Amazônia'] \n",
    "x, y = zip(*sorted(zip(df_aux['Total'], df_aux['Ano']),reverse=True)) # ordenando os dados do maior para o menor\n",
    "plt.figure(figsize=(8,8))\n",
    "plt.pie(x = x,\n",
    "       labels = y,)\n",
    "plt.show()"
   ]
  },
  {
   "cell_type": "code",
   "execution_count": null,
   "metadata": {},
   "outputs": [],
   "source": [
    "from matplotlib import cm\n",
    "df_aux = df[df['Bioma'] == 'Amazônia'] \n",
    "x, y = zip(*sorted(zip(df_aux['Total'], df_aux['Ano']),reverse=True)) # ordenando os dados do maior para o menor\n",
    "plt.figure(figsize=(8,8))\n",
    "plt.pie(x = x,\n",
    "       labels = y,\n",
    "       colors=cm.tab20c.colors,\n",
    "       startangle=90,\n",
    "       )\n",
    "plt.show()"
   ]
  },
  {
   "cell_type": "code",
   "execution_count": null,
   "metadata": {},
   "outputs": [],
   "source": [
    "df_aux = df[df['Bioma'] == 'Amazônia'] \n",
    "x, y = zip(*sorted(zip(df_aux['Total'], df_aux['Ano']),reverse=True)) # ordenando os dados do maior para o menor\n",
    "plt.figure(figsize=(8,8))\n",
    "plt.pie(x = x,\n",
    "       labels = y,\n",
    "       colors=cm.tab20c.colors,\n",
    "       startangle=90,\n",
    "       autopct='%1.1f%%',\n",
    "       )\n",
    "plt.tight_layout()\n",
    "plt.show()"
   ]
  },
  {
   "cell_type": "code",
   "execution_count": null,
   "metadata": {},
   "outputs": [],
   "source": [
    "df_aux = df[df['Bioma'] == 'Amazônia'] \n",
    "x, y = zip(*sorted(zip(df_aux['Total'], df_aux['Ano']),reverse=True)) # ordenando os dados do maior para o menor\n",
    "plt.figure(figsize=(8,8))\n",
    "plt.pie(x = x,\n",
    "       labels = y,\n",
    "       colors=cm.tab20c.colors,\n",
    "       startangle=90,\n",
    "       autopct='%1.1f%%',\n",
    "       explode = [0, 0, 0.02, 0.03, 0, 0.035, 0, 0.040, 0, 0, 0, 0.045, 0, 0.05, 0, 0, 0, 0.060, 0, 0.065, 0, 0, 0])\n",
    "plt.tight_layout()\n",
    "plt.show()"
   ]
  },
  {
   "cell_type": "code",
   "execution_count": null,
   "metadata": {},
   "outputs": [],
   "source": [
    "for j in range(len(df['Bioma'].unique())):# percorrendo todos os biomas    \n",
    "    df_aux = df[df['Bioma'] == df['Bioma'].unique()[j]] \n",
    "    x, y = zip(*sorted(zip(df_aux['Total'], df_aux['Ano']),reverse=True)) # ordenando os dados do maior para o menor\n",
    "    plt.figure(figsize=(8,8))\n",
    "    plt.pie(x = x,\n",
    "           labels = y,\n",
    "           colors=cm.tab20c.colors,\n",
    "           startangle=90,\n",
    "           autopct='%1.1f%%',\n",
    "           explode = [0, 0, 0.02, 0.03, 0, 0.035, 0, 0.040, 0, 0, 0, 0.045, 0, 0.05, 0, 0, 0, 0.060, 0, 0.065, 0, 0, 0])\n",
    "    plt.title(\"Comparativo entre o total de focos de queimadas identificados por ano bioma: \" + df['Bioma'].unique()[j])\n",
    "    plt.tight_layout()\n",
    "    plt.show()"
   ]
  },
  {
   "cell_type": "code",
   "execution_count": null,
   "metadata": {},
   "outputs": [],
   "source": [
    "import plotly.offline as pyo\n",
    "import plotly.graph_objs as go"
   ]
  },
  {
   "cell_type": "code",
   "execution_count": null,
   "metadata": {},
   "outputs": [],
   "source": [
    "df_aux = df[df['Bioma'] == df['Bioma'].unique()[0]] # Dividindo o data frame para ter apenas os dados de 1 bioma\n",
    "# criando os traços\n",
    "tracos = []\n",
    "for i in range(df_aux.shape[0]):\n",
    "    tracos.append(go.Scatter(\n",
    "                        x = df_aux.columns.values[1:13], # os dados do eixo x\n",
    "                        y = df_aux.loc[i][1:13], # acessando os dados dos meses (dados do eixo y)\n",
    "                        mode = 'lines+markers', # define o tipo de gráfico, neste caso vai ter linhas e marcadores\n",
    "                        name = str(df_aux['Ano'][i]), # adiciono o nome do traço\n",
    "                        hovertemplate = df_aux.columns.values[1:13] + ' de ' + str(df_aux['Ano'][i]) + '<br>nº de focos: ' \n",
    "                        + [str(i) for i in list(df_aux.loc[i][1:13])] , # alterando o template do hover\n",
    "    ))\n",
    "# criando o layout\n",
    "layout = go.Layout(\n",
    "                   title = 'Número de focos de queimadas ao longo do ano no bioma: ' + df['Bioma'].unique()[0],\n",
    "                   showlegend=True, # garante que a legenda será mostrada\n",
    "                   hovermode = \"closest\", # garante que o hover irá mostrar os dados do ponto mais próximo a seta do mouse\n",
    "                   hoverlabel=dict(bgcolor=\"white\", # altera a cor de fundo \n",
    "                                    font_size=16, # altera o tamanho da fonte\n",
    "                                    font_family=\"Roboto\"), # altera a fonte de texto\n",
    "                   xaxis = dict(title = 'Meses', linecolor='rgba(0,0,0,1)'), # Nome do eixo x / adiciona uma linha preta em y=0\n",
    "                   yaxis = dict(title = 'Número de focos de queimadas', linecolor='rgba(0,0,0,1)'),\n",
    ")\n",
    "# Criando a figura\n",
    "fig = go.Figure(data=tracos, layout=layout)\n",
    "pyo.plot(fig,filename = 'scatter-plot.html') # gerando o arquivo"
   ]
  },
  {
   "cell_type": "code",
   "execution_count": null,
   "metadata": {},
   "outputs": [],
   "source": [
    "df_aux = df[df['Bioma'] == df['Bioma'].unique()[0]] # Dividindo o data frame para ter apenas os dados de 1 bioma\n",
    "traco = [go.Bar(\n",
    "                x = df_aux['Ano'], # os dados do eixo x\n",
    "                y = df_aux['Total'], # dados do eio y\n",
    "                name = df['Bioma'].unique()[0], # nome do bioma\n",
    "                hovertemplate = ['Total de focos de queimadas: ' + i for i in [str(i) for i in (df_aux['Total'])]],\n",
    ")] # acessando os dados dos anos (dados do eixo y)\n",
    "\n",
    "layout = go.Layout(\n",
    "                  title = 'Total de focos de queimadas ao longo de todo o período avaliado no bioma: ' + \n",
    "                  df['Bioma'].unique()[0], # adicionando um titulo\n",
    "                  xaxis = dict(title = 'Anos', linecolor='rgba(0,0,0,1)', tickmode = 'array', tickvals = df_aux['Ano'], ticktext = df_aux['Ano']), # adicionando nome eo eixo x, barra (y=0) na cor preta, e fixando o ano abaixo de todas as barras\n",
    "                  yaxis = dict(title = 'Total de queimadas por ano', linecolor='rgba(0,0,0,1)', tickformat=False), # adicionando nome no eixo y, passando uma linha preta em x = 0, e removendo a formatação padrão dos ticks, para que não apareça o K\n",
    "                  showlegend=True, # adicionando a legenda\n",
    "                  hoverlabel=dict(bgcolor=\"white\", # alterando a cor de fundo do hover\n",
    "                                    font_size=16, # alterando o tamanho da letra no hover\n",
    "                                    font_family=\"Roboto\") # alterando a fonte do hover\n",
    "\n",
    "                    )\n",
    "# Criando a figura\n",
    "fig = go.Figure(data = traco, layout = layout)\n",
    "pyo.plot(fig, filename = 'bar-plot.html')# gerando o arquivo"
   ]
  },
  {
   "cell_type": "code",
   "execution_count": null,
   "metadata": {},
   "outputs": [],
   "source": [
    "df_aux = df[df['Bioma'] == df['Bioma'].unique()[0]] # Dividindo o data frame para ter apenas os dados de 1 bioma\n",
    "traco = [go.Pie(\n",
    "                labels = df_aux['Ano'], # adicionando os labels das fatias de pizza\n",
    "                values = df_aux['Total'], # adicionando o tamanho das fatais de pizza\n",
    "                rotation=-30, # mudando a posição inicial de preenchimento das fatias\n",
    "                insidetextorientation='radial', # mudando a orientação do texto dentro das fatias\n",
    ")]\n",
    "\n",
    "layout = go.Layout(\n",
    "                    title_text='Total de focos de queimadas ao longo de todo o período avaliado no bioma: ' + \n",
    "                    df['Bioma'].unique()[0], # adicionando um titulo\n",
    "                  )\n",
    "# Criando a figura\n",
    "fig = go.Figure(data = traco, layout = layout)\n",
    "pyo.plot(fig, filename = 'pie-plot.html')# gerando o arquivo"
   ]
  },
  {
   "cell_type": "code",
   "execution_count": null,
   "metadata": {},
   "outputs": [],
   "source": [
    "df_aux = df[df['Bioma'] == df['Bioma'].unique()[0]] # Dividindo o data frame para ter apenas os dados de 1 bioma\n",
    "traco = [go.Pie(\n",
    "                labels = df_aux['Ano'], # adicionando os labels das fatias de pizza\n",
    "                values = df_aux['Total'], # adicionando o tamanho das fatais de pizza\n",
    "#                 rotation=-45, # mudando a posição inicial de preenchimento das fatias\n",
    "                insidetextorientation='radial', # mudando a orientação do texto dentro das fatias\n",
    "                hole=.3, # transformando a pizza em uma rosquinha\n",
    "\n",
    ")]\n",
    "\n",
    "layout = go.Layout(\n",
    "                    title_text='Total de focos de queimadas ao longo de todo o período avaliado no bioma: ' + \n",
    "                    df['Bioma'].unique()[0], # adicionando um titulo\n",
    "                    annotations=[dict(text = 'Total', # Colocando o que será inserido dentro do buraco\n",
    "                                      x = .5, # posição de x do centro do buraco da rosquinha\n",
    "                                      y = 0.5, # posição de y do centro do buraco da rosquinha\n",
    "                                      font_size = 24, # tamanho da fonte\n",
    "                                      font_family = \"Roboto\", # alterando a fonte do texto\n",
    "                                      showarrow = False, # removendo a seta que vem por padrão inserida\n",
    "                                     )],\n",
    "                  )\n",
    "# Criando a figura\n",
    "fig = go.Figure(data = traco, layout = layout)\n",
    "pyo.plot(fig, filename = 'pie-plot.html')# gerando o arquivo"
   ]
  },
  {
   "cell_type": "code",
   "execution_count": null,
   "metadata": {},
   "outputs": [],
   "source": []
  }
 ],
 "metadata": {
  "kernelspec": {
   "display_name": "sonic",
   "language": "python",
   "name": "sonic"
  },
  "language_info": {
   "codemirror_mode": {
    "name": "ipython",
    "version": 3
   },
   "file_extension": ".py",
   "mimetype": "text/x-python",
   "name": "python",
   "nbconvert_exporter": "python",
   "pygments_lexer": "ipython3",
   "version": "3.7.3"
  }
 },
 "nbformat": 4,
 "nbformat_minor": 4
}
