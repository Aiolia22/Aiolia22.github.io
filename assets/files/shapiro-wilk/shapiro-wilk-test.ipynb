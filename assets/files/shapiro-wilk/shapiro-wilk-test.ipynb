{
 "cells": [
  {
   "cell_type": "code",
   "execution_count": 1,
   "metadata": {},
   "outputs": [],
   "source": [
    "###########################\n",
    "### The puZZle in a Mug ###\n",
    "###########################\n",
    "\n",
    "# importing the libraries\n",
    "import scipy.stats as stats"
   ]
  },
  {
   "cell_type": "code",
   "execution_count": 2,
   "metadata": {},
   "outputs": [],
   "source": [
    "# Adding the data\n",
    "y = [1.90642, 2.22488, 2.10288, 1.69742, 1.52229, 3.15435, 2.61826, 1.98492, 1.42738, 1.99568]\n",
    "\n",
    "# Calculating the Shapiro-Wilk test\n",
    "shapiro_stat, shapiro_p_valor = stats.shapiro(y)"
   ]
  },
  {
   "cell_type": "code",
   "execution_count": 3,
   "metadata": {},
   "outputs": [
    {
     "name": "stdout",
     "output_type": "stream",
     "text": [
      "O valor da estatística de Shapiro-Wilk eh de = 0.9266944527626038\n",
      "O valor de p de Shapiro-Wilk eh de = 0.4161774218082428\n"
     ]
    }
   ],
   "source": [
    "print(\"O valor da estatística de Shapiro-Wilk eh de = \" + str(shapiro_stat))\n",
    "print(\"O valor de p de Shapiro-Wilk eh de = \" + str(shapiro_p_valor))"
   ]
  },
  {
   "cell_type": "code",
   "execution_count": 4,
   "metadata": {},
   "outputs": [
    {
     "name": "stdout",
     "output_type": "stream",
     "text": [
      "Com 95% de confianca, os dados são similares a uma distribuição normal segundo o teste de Shapiro-Wilk\n"
     ]
    }
   ],
   "source": [
    "# Conclusion\n",
    "if shapiro_p_valor >= 0.05:\n",
    "    print(\"Com 95% de confianca, os dados são similares a uma distribuição normal segundo o teste de Shapiro-Wilk\")\n",
    "else:\n",
    "    print(\"Com 95% de confianca, os dados NÃO são similares a uma distribuição normal segundo o teste de Shapiro-Wilk\")\n"
   ]
  },
  {
   "cell_type": "code",
   "execution_count": null,
   "metadata": {},
   "outputs": [],
   "source": []
  }
 ],
 "metadata": {
  "kernelspec": {
   "display_name": "sonic",
   "language": "python",
   "name": "sonic"
  },
  "language_info": {
   "codemirror_mode": {
    "name": "ipython",
    "version": 3
   },
   "file_extension": ".py",
   "mimetype": "text/x-python",
   "name": "python",
   "nbconvert_exporter": "python",
   "pygments_lexer": "ipython3",
   "version": "3.7.3"
  }
 },
 "nbformat": 4,
 "nbformat_minor": 4
}
